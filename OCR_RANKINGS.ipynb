{
 "cells": [
  {
   "cell_type": "code",
   "execution_count": 4,
   "metadata": {
    "collapsed": true
   },
   "outputs": [],
   "source": [
    "# Libraries\n",
    "import pandas as pd\n",
    "import matplotlib.pyplot as plt\n",
    "import matplotlib\n",
    "matplotlib.style.use('ggplot')\n",
    "import random as rng\n",
    "import numpy as np\n",
    "%matplotlib inline"
   ]
  },
  {
   "cell_type": "code",
   "execution_count": 5,
   "metadata": {
    "collapsed": false
   },
   "outputs": [],
   "source": [
    "data = pd.read_csv(\"ocr_data/table_iterations/ocr_corrected.csv\")"
   ]
  },
  {
   "cell_type": "code",
   "execution_count": 8,
   "metadata": {
    "collapsed": false
   },
   "outputs": [
    {
     "name": "stdout",
     "output_type": "stream",
     "text": [
      "   2015:Team  OPR Rank  2014:Team  OPR Rank.1  2013:Team  OPR Rank.2  \\\n",
      "0          1       229          1        1207          1         958   \n",
      "1          4      1085          4        1404          4        1007   \n",
      "2          8      1969          8        1262          8        2001   \n",
      "3         11       231         11         410         11          54   \n",
      "4         16        74         16          13         16         261   \n",
      "\n",
      "   2012:Team  OPR Rank.3  2011:Team  OPR Rank.4  2010:Team  OPR Rank.5  \\\n",
      "0          1         984          1         330          1          53   \n",
      "1          4        2099          4        1338          4         364   \n",
      "2          7        1861          7        1159          7         572   \n",
      "3          8         113          8         946          8         234   \n",
      "4         11         223         11          40         11         302   \n",
      "\n",
      "   2009:Team  OPR Rank.6  2008:Team  OPR Rank.7  \n",
      "0          1         317          1         161  \n",
      "1          4         436          4        1242  \n",
      "2          7         328          5         197  \n",
      "3          8        1041          7        1208  \n",
      "4         11         429          8         635  \n"
     ]
    }
   ],
   "source": [
    "print data.head()"
   ]
  },
  {
   "cell_type": "code",
   "execution_count": 7,
   "metadata": {
    "collapsed": false
   },
   "outputs": [
    {
     "name": "stdout",
     "output_type": "stream",
     "text": [
      "   2015:Team  OPR Rank\n",
      "0          1       229\n",
      "1          4      1085\n",
      "2          8      1969\n",
      "3         11       231\n",
      "4         16        74\n",
      "   2014:Team  OPR Rank.1\n",
      "0          1        1207\n",
      "1          4        1404\n",
      "2          8        1262\n",
      "3         11         410\n",
      "4         16          13\n",
      "   2013:Team  OPR Rank.2\n",
      "0          1         958\n",
      "1          4        1007\n",
      "2          8        2001\n",
      "3         11          54\n",
      "4         16         261\n",
      "   2012:Team  OPR Rank.3\n",
      "0          1         984\n",
      "1          4        2099\n",
      "2          7        1861\n",
      "3          8         113\n",
      "4         11         223\n",
      "   2011:Team  OPR Rank.4\n",
      "0          1         330\n",
      "1          4        1338\n",
      "2          7        1159\n",
      "3          8         946\n",
      "4         11          40\n",
      "   2010:Team  OPR Rank.5\n",
      "0          1          53\n",
      "1          4         364\n",
      "2          7         572\n",
      "3          8         234\n",
      "4         11         302\n",
      "   2009:Team  OPR Rank.6\n",
      "0          1         317\n",
      "1          4         436\n",
      "2          7         328\n",
      "3          8        1041\n",
      "4         11         429\n",
      "   2008:Team  OPR Rank.7\n",
      "0          1         161\n",
      "1          4        1242\n",
      "2          5         197\n",
      "3          7        1208\n",
      "4          8         635\n"
     ]
    },
    {
     "ename": "AttributeError",
     "evalue": "'DataFrame' object has no attribute 'itteritems'",
     "output_type": "error",
     "traceback": [
      "\u001b[0;31m---------------------------------------------------------------------------\u001b[0m",
      "\u001b[0;31mAttributeError\u001b[0m                            Traceback (most recent call last)",
      "\u001b[0;32m<ipython-input-7-5ad33f406638>\u001b[0m in \u001b[0;36m<module>\u001b[0;34m()\u001b[0m\n\u001b[1;32m     20\u001b[0m \u001b[0;34m\u001b[0m\u001b[0m\n\u001b[1;32m     21\u001b[0m \u001b[0;31m# extract teams\u001b[0m\u001b[0;34m\u001b[0m\u001b[0;34m\u001b[0m\u001b[0m\n\u001b[0;32m---> 22\u001b[0;31m \u001b[0mitterated_df\u001b[0m \u001b[0;34m=\u001b[0m \u001b[0mdf_2015\u001b[0m\u001b[0;34m.\u001b[0m\u001b[0mitteritems\u001b[0m\u001b[0;34m(\u001b[0m\u001b[0;34m\"2015:Team\"\u001b[0m\u001b[0;34m)\u001b[0m\u001b[0;34m\u001b[0m\u001b[0m\n\u001b[0m",
      "\u001b[0;32m/Users/dinbecevic/anaconda/lib/python2.7/site-packages/pandas/core/generic.pyc\u001b[0m in \u001b[0;36m__getattr__\u001b[0;34m(self, name)\u001b[0m\n\u001b[1;32m   2358\u001b[0m                 \u001b[0;32mreturn\u001b[0m \u001b[0mself\u001b[0m\u001b[0;34m[\u001b[0m\u001b[0mname\u001b[0m\u001b[0;34m]\u001b[0m\u001b[0;34m\u001b[0m\u001b[0m\n\u001b[1;32m   2359\u001b[0m             raise AttributeError(\"'%s' object has no attribute '%s'\" %\n\u001b[0;32m-> 2360\u001b[0;31m                                  (type(self).__name__, name))\n\u001b[0m\u001b[1;32m   2361\u001b[0m \u001b[0;34m\u001b[0m\u001b[0m\n\u001b[1;32m   2362\u001b[0m     \u001b[0;32mdef\u001b[0m \u001b[0m__setattr__\u001b[0m\u001b[0;34m(\u001b[0m\u001b[0mself\u001b[0m\u001b[0;34m,\u001b[0m \u001b[0mname\u001b[0m\u001b[0;34m,\u001b[0m \u001b[0mvalue\u001b[0m\u001b[0;34m)\u001b[0m\u001b[0;34m:\u001b[0m\u001b[0;34m\u001b[0m\u001b[0m\n",
      "\u001b[0;31mAttributeError\u001b[0m: 'DataFrame' object has no attribute 'itteritems'"
     ]
    }
   ],
   "source": [
    "# make individual dataframes for each year\n",
    "df_2015 = data[['2015:Team','OPR Rank']]\n",
    "df_2014 = data[['2014:Team','OPR Rank.1']]\n",
    "df_2013 = data[['2013:Team','OPR Rank.2']]\n",
    "df_2012 = data[['2012:Team','OPR Rank.3']]\n",
    "df_2011 = data[['2011:Team','OPR Rank.4']]\n",
    "df_2010 = data[['2010:Team','OPR Rank.5']]\n",
    "df_2009 = data[['2009:Team','OPR Rank.6']]\n",
    "df_2008 = data[['2008:Team','OPR Rank.7']]\n",
    "\n",
    "# display head summaries of each individual dataframe\n",
    "print df_2015.head()\n",
    "print df_2014.head()\n",
    "print df_2013.head()\n",
    "print df_2012.head()\n",
    "print df_2011.head()\n",
    "print df_2010.head()\n",
    "print df_2009.head()\n",
    "print df_2008.head()\n",
    "\n",
    "# extract teams\n",
    "itterated_df = df_2015.itteritems(\"2015:Team\")"
   ]
  },
  {
   "cell_type": "code",
   "execution_count": null,
   "metadata": {
    "collapsed": false
   },
   "outputs": [],
   "source": [
    "plt.boxplot(data[\"Unnamed: 3\"][1:])\n",
    "plt.show()"
   ]
  }
 ],
 "metadata": {
  "kernelspec": {
   "display_name": "Python 2",
   "language": "python",
   "name": "python2"
  },
  "language_info": {
   "codemirror_mode": {
    "name": "ipython",
    "version": 2
   },
   "file_extension": ".py",
   "mimetype": "text/x-python",
   "name": "python",
   "nbconvert_exporter": "python",
   "pygments_lexer": "ipython2",
   "version": "2.7.11"
  }
 },
 "nbformat": 4,
 "nbformat_minor": 0
}
