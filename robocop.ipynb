{
 "cells": [
  {
   "cell_type": "markdown",
   "metadata": {},
   "source": [
    "None of this is being used. Most of it was abandoned. Just some brainstorming on how to approach presenting the data and what metrics to use. "
   ]
  },
  {
   "cell_type": "markdown",
   "metadata": {},
   "source": [
    "Change csv file to have a column label for the various obstacles and points so it can be indexed into easier.\n",
    "Chagne index_col to corrospond.\n",
    "Finish graphs."
   ]
  },
  {
   "cell_type": "code",
   "execution_count": 1,
   "metadata": {
    "collapsed": true
   },
   "outputs": [],
   "source": [
    "def test():\n",
    "    print \"testing to see if migrated repository works\""
   ]
  },
  {
   "cell_type": "code",
   "execution_count": 2,
   "metadata": {
    "collapsed": true
   },
   "outputs": [],
   "source": [
    "def dash():\n",
    "    print \"-\" * 20"
   ]
  },
  {
   "cell_type": "code",
   "execution_count": 3,
   "metadata": {
    "collapsed": false
   },
   "outputs": [],
   "source": [
    "# import libraries\n",
    "import pandas as pd\n",
    "import matplotlib.pyplot as plot\n",
    "import matplotlib\n",
    "matplotlib.style.use('ggplot')\n",
    "import random as rng\n",
    "import numpy as np\n",
    "%matplotlib inline\n",
    "\n",
    "# take a url of the csv or can read the csv locally into a pandas data frame\n",
    "data = pd.read_csv(\"robodummy.csv\", index_col=0)"
   ]
  },
  {
   "cell_type": "markdown",
   "metadata": {},
   "source": [
    "9 defenses \n",
    "\n",
    "1. Low Bar\n",
    "2. ALLIANCE selected\n",
    "3. Audience selected\n",
    "4. ALLIANCE selected\n",
    "5. ALLIANCE selected"
   ]
  },
  {
   "cell_type": "markdown",
   "metadata": {},
   "source": [
    "Data structure choices include:\n",
    "   - Pandas dataframes\n",
    "   - Numpy Arrays\n",
    "   - Object oriented\n",
    "   - Dictionary"
   ]
  },
  {
   "cell_type": "code",
   "execution_count": 4,
   "metadata": {
    "collapsed": false
   },
   "outputs": [],
   "source": [
    "# Object oriented approach, would have to feed csv data into objects\n",
    "\n",
    "# maybe get rid of this and just use library analysis tools\n",
    "class Robot(object):\n",
    "\n",
    "\tdef __init__(self, name, alliance, auto_points, points):\n",
    "\n",
    "\t\tself.name = name\n",
    "\t\tself.alliance = alliance\n",
    "\t\tself.auto_points = auto_points\n",
    "\t\tself.points = points\n",
    "\n",
    "\tdef points_per_sec(self):\n",
    "\t\treturn self.points / 150\n",
    "\n",
    "\tdef auto_points_per_sec(self):\n",
    "\t\treturn self.auto_points / 15\n",
    "\n",
    "\tdef get_name(self):\n",
    "\t\treturn self.name\n",
    "\n",
    "\tdef get_alliance(self):\n",
    "\t\treturn self.alliance"
   ]
  },
  {
   "cell_type": "code",
   "execution_count": 10,
   "metadata": {
    "collapsed": false
   },
   "outputs": [
    {
     "data": {
      "text/html": [
       "<div>\n",
       "<table border=\"1\" class=\"dataframe\">\n",
       "  <thead>\n",
       "    <tr style=\"text-align: right;\">\n",
       "      <th></th>\n",
       "      <th>Cougar Tech</th>\n",
       "      <th>Webster</th>\n",
       "      <th>PIttsford</th>\n",
       "      <th>Rush Henrietta</th>\n",
       "    </tr>\n",
       "    <tr>\n",
       "      <th>Metrics</th>\n",
       "      <th></th>\n",
       "      <th></th>\n",
       "      <th></th>\n",
       "      <th></th>\n",
       "    </tr>\n",
       "  </thead>\n",
       "  <tbody>\n",
       "    <tr>\n",
       "      <th>Auto Points</th>\n",
       "      <td>10.00</td>\n",
       "      <td>15.0</td>\n",
       "      <td>5.0</td>\n",
       "      <td>20.00</td>\n",
       "    </tr>\n",
       "    <tr>\n",
       "      <th>Points</th>\n",
       "      <td>35.00</td>\n",
       "      <td>45.0</td>\n",
       "      <td>15.0</td>\n",
       "      <td>55.00</td>\n",
       "    </tr>\n",
       "    <tr>\n",
       "      <th>Low Bar</th>\n",
       "      <td>1.00</td>\n",
       "      <td>1.0</td>\n",
       "      <td>1.0</td>\n",
       "      <td>1.00</td>\n",
       "    </tr>\n",
       "    <tr>\n",
       "      <th>Portcullis</th>\n",
       "      <td>1.00</td>\n",
       "      <td>0.5</td>\n",
       "      <td>1.0</td>\n",
       "      <td>0.50</td>\n",
       "    </tr>\n",
       "    <tr>\n",
       "      <th>Cheval de Frise</th>\n",
       "      <td>1.00</td>\n",
       "      <td>1.0</td>\n",
       "      <td>1.0</td>\n",
       "      <td>0.75</td>\n",
       "    </tr>\n",
       "    <tr>\n",
       "      <th>Moat</th>\n",
       "      <td>0.25</td>\n",
       "      <td>1.0</td>\n",
       "      <td>1.0</td>\n",
       "      <td>0.30</td>\n",
       "    </tr>\n",
       "    <tr>\n",
       "      <th>Ramparts</th>\n",
       "      <td>0.50</td>\n",
       "      <td>1.0</td>\n",
       "      <td>0.3</td>\n",
       "      <td>0.50</td>\n",
       "    </tr>\n",
       "    <tr>\n",
       "      <th>Drawbridge</th>\n",
       "      <td>0.50</td>\n",
       "      <td>1.0</td>\n",
       "      <td>0.5</td>\n",
       "      <td>0.30</td>\n",
       "    </tr>\n",
       "    <tr>\n",
       "      <th>Sally Port</th>\n",
       "      <td>1.00</td>\n",
       "      <td>0.3</td>\n",
       "      <td>0.5</td>\n",
       "      <td>0.90</td>\n",
       "    </tr>\n",
       "    <tr>\n",
       "      <th>Rock Wall</th>\n",
       "      <td>0.75</td>\n",
       "      <td>0.7</td>\n",
       "      <td>0.9</td>\n",
       "      <td>0.50</td>\n",
       "    </tr>\n",
       "    <tr>\n",
       "      <th>Rough Terrain</th>\n",
       "      <td>0.30</td>\n",
       "      <td>0.5</td>\n",
       "      <td>0.9</td>\n",
       "      <td>1.00</td>\n",
       "    </tr>\n",
       "  </tbody>\n",
       "</table>\n",
       "</div>"
      ],
      "text/plain": [
       "                 Cougar Tech  Webster  PIttsford  Rush Henrietta\n",
       "Metrics                                                         \n",
       "Auto Points            10.00     15.0        5.0           20.00\n",
       "Points                 35.00     45.0       15.0           55.00\n",
       "Low Bar                 1.00      1.0        1.0            1.00\n",
       "Portcullis              1.00      0.5        1.0            0.50\n",
       "Cheval de Frise         1.00      1.0        1.0            0.75\n",
       "Moat                    0.25      1.0        1.0            0.30\n",
       "Ramparts                0.50      1.0        0.3            0.50\n",
       "Drawbridge              0.50      1.0        0.5            0.30\n",
       "Sally Port              1.00      0.3        0.5            0.90\n",
       "Rock Wall               0.75      0.7        0.9            0.50\n",
       "Rough Terrain           0.30      0.5        0.9            1.00"
      ]
     },
     "execution_count": 10,
     "metadata": {},
     "output_type": "execute_result"
    }
   ],
   "source": [
    "data"
   ]
  },
  {
   "cell_type": "code",
   "execution_count": 5,
   "metadata": {
    "collapsed": false
   },
   "outputs": [
    {
     "name": "stdout",
     "output_type": "stream",
     "text": [
      "(45.0, 0.23333333333333334, 0.66666666666666663)\n"
     ]
    }
   ],
   "source": [
    "# needs to be changed to align with new csv formatting \n",
    "def analyze(dataframe, team):\n",
    "    total_points = dataframe[team]['Points'] + dataframe[team]['Auto Points']\n",
    "    cumulative_success_rate = 4\n",
    "    pps = dataframe[team]['Points'] / 150\n",
    "    auto_pps = dataframe[team]['Auto Points'] / 15\n",
    "    \n",
    "    # return a data frame instead \n",
    "    return(total_points, pps, auto_pps)\n",
    "\n",
    "stuff = analyze(data, 'Cougar Tech')\n",
    "print stuff"
   ]
  },
  {
   "cell_type": "markdown",
   "metadata": {},
   "source": [
    "Analysis Functions:"
   ]
  },
  {
   "cell_type": "code",
   "execution_count": 12,
   "metadata": {
    "collapsed": false
   },
   "outputs": [
    {
     "data": {
      "text/plain": [
       "<matplotlib.axes._subplots.AxesSubplot at 0x109c00310>"
      ]
     },
     "execution_count": 12,
     "metadata": {},
     "output_type": "execute_result"
    },
    {
     "data": {
      "image/png": "[encoded data removed]",
      "text/plain": [
       "<matplotlib.figure.Figure at 0x109668d50>"
      ]
     },
     "metadata": {},
     "output_type": "display_data"
    }
   ],
   "source": [
    "data.plot.bar()"
   ]
  },
  {
   "cell_type": "code",
   "execution_count": null,
   "metadata": {
    "collapsed": false
   },
   "outputs": [],
   "source": [
    "print data.shape[0]\n",
    "data[1][1]"
   ]
  },
  {
   "cell_type": "code",
   "execution_count": null,
   "metadata": {
    "collapsed": false
   },
   "outputs": [],
   "source": [
    "n_groups = data.shape[0]\n",
    "\n",
    "fig, ax = plot.subplots()\n",
    "\n",
    "index = np.arange(n_groups)\n",
    "bar_width = 0.35\n",
    "\n",
    "opacity = 0.4\n",
    "error_config = {'ecolor': '0.3'}\n",
    "\n",
    "rects1 = plot.bar(index, data[\"Cougar Tech\"], bar_width,\n",
    "                 alpha=opacity,\n",
    "                 color='b',\n",
    "                 error_kw=error_config,\n",
    "                 label='Men')\n",
    "\n",
    "plot.xlabel('Group')\n",
    "plot.ylabel('Scores')\n",
    "plot.title('Scores by group and gender')\n",
    "plot.xticks(index + bar_width, data[])\n",
    "plot.legend()\n",
    "\n",
    "plot.tight_layout()\n",
    "plot.show()"
   ]
  }
 ],
 "metadata": {
  "kernelspec": {
   "display_name": "Python 2",
   "language": "python",
   "name": "python2"
  },
  "language_info": {
   "codemirror_mode": {
    "name": "ipython",
    "version": 2
   },
   "file_extension": ".py",
   "mimetype": "text/x-python",
   "name": "python",
   "nbconvert_exporter": "python",
   "pygments_lexer": "ipython2",
   "version": "2.7.11"
  }
 },
 "nbformat": 4,
 "nbformat_minor": 0
}
