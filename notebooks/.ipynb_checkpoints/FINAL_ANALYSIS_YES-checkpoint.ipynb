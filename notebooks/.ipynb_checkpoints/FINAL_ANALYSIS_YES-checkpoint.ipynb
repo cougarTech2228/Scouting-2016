{
 "cells": [
  {
   "cell_type": "code",
   "execution_count": 1,
   "metadata": {
    "collapsed": true
   },
   "outputs": [],
   "source": [
    "import pandas as pd\n",
    "import matplotlib.pyplot as plot\n",
    "import matplotlib\n",
    "matplotlib.style.use(\"ggplot\")\n",
    "%matplotlib inline"
   ]
  },
  {
   "cell_type": "code",
   "execution_count": 2,
   "metadata": {
    "collapsed": true
   },
   "outputs": [],
   "source": [
    "toronto_data = pd.read_csv(\"toronto_transposed.csv\")"
   ]
  },
  {
   "cell_type": "code",
   "execution_count": 3,
   "metadata": {
    "collapsed": false
   },
   "outputs": [
    {
     "data": {
      "text/html": [
       "<div>\n",
       "<table border=\"1\" class=\"dataframe\">\n",
       "  <thead>\n",
       "    <tr style=\"text-align: right;\">\n",
       "      <th></th>\n",
       "      <th>Toronto</th>\n",
       "      <th>118</th>\n",
       "      <th>296</th>\n",
       "      <th>610</th>\n",
       "      <th>746</th>\n",
       "      <th>1075</th>\n",
       "      <th>1114</th>\n",
       "      <th>1241</th>\n",
       "      <th>1246</th>\n",
       "      <th>1285</th>\n",
       "      <th>...</th>\n",
       "      <th>5428</th>\n",
       "      <th>5580</th>\n",
       "      <th>5596</th>\n",
       "      <th>5719</th>\n",
       "      <th>5807</th>\n",
       "      <th>6046</th>\n",
       "      <th>6070</th>\n",
       "      <th>6125</th>\n",
       "      <th>6140</th>\n",
       "      <th>6141</th>\n",
       "    </tr>\n",
       "  </thead>\n",
       "  <tbody>\n",
       "    <tr>\n",
       "      <th>0</th>\n",
       "      <td>OPR 2015</td>\n",
       "      <td>2</td>\n",
       "      <td>1336</td>\n",
       "      <td>306</td>\n",
       "      <td>1922</td>\n",
       "      <td>1813</td>\n",
       "      <td>3</td>\n",
       "      <td>905</td>\n",
       "      <td>1409</td>\n",
       "      <td>388</td>\n",
       "      <td>...</td>\n",
       "      <td>1473</td>\n",
       "      <td>2055</td>\n",
       "      <td>2011</td>\n",
       "      <td>2049</td>\n",
       "      <td>NaN</td>\n",
       "      <td>NaN</td>\n",
       "      <td>NaN</td>\n",
       "      <td>NaN</td>\n",
       "      <td>NaN</td>\n",
       "      <td>NaN</td>\n",
       "    </tr>\n",
       "    <tr>\n",
       "      <th>1</th>\n",
       "      <td>OPR 2014</td>\n",
       "      <td>3</td>\n",
       "      <td>1263</td>\n",
       "      <td>29</td>\n",
       "      <td>1419</td>\n",
       "      <td>767</td>\n",
       "      <td>1</td>\n",
       "      <td>48</td>\n",
       "      <td>2620</td>\n",
       "      <td>426</td>\n",
       "      <td>...</td>\n",
       "      <td>NaN</td>\n",
       "      <td>NaN</td>\n",
       "      <td>NaN</td>\n",
       "      <td>NaN</td>\n",
       "      <td>NaN</td>\n",
       "      <td>NaN</td>\n",
       "      <td>NaN</td>\n",
       "      <td>NaN</td>\n",
       "      <td>NaN</td>\n",
       "      <td>NaN</td>\n",
       "    </tr>\n",
       "    <tr>\n",
       "      <th>2</th>\n",
       "      <td>OPR 2013</td>\n",
       "      <td>5</td>\n",
       "      <td>1548</td>\n",
       "      <td>40</td>\n",
       "      <td>NaN</td>\n",
       "      <td>1319</td>\n",
       "      <td>1</td>\n",
       "      <td>73</td>\n",
       "      <td>NaN</td>\n",
       "      <td>NaN</td>\n",
       "      <td>...</td>\n",
       "      <td>NaN</td>\n",
       "      <td>NaN</td>\n",
       "      <td>NaN</td>\n",
       "      <td>NaN</td>\n",
       "      <td>NaN</td>\n",
       "      <td>NaN</td>\n",
       "      <td>NaN</td>\n",
       "      <td>NaN</td>\n",
       "      <td>NaN</td>\n",
       "      <td>NaN</td>\n",
       "    </tr>\n",
       "    <tr>\n",
       "      <th>3</th>\n",
       "      <td>OPR 2012</td>\n",
       "      <td>17</td>\n",
       "      <td>1418</td>\n",
       "      <td>99</td>\n",
       "      <td>NaN</td>\n",
       "      <td>1228</td>\n",
       "      <td>5</td>\n",
       "      <td>188</td>\n",
       "      <td>989</td>\n",
       "      <td>NaN</td>\n",
       "      <td>...</td>\n",
       "      <td>NaN</td>\n",
       "      <td>NaN</td>\n",
       "      <td>NaN</td>\n",
       "      <td>NaN</td>\n",
       "      <td>NaN</td>\n",
       "      <td>NaN</td>\n",
       "      <td>NaN</td>\n",
       "      <td>NaN</td>\n",
       "      <td>NaN</td>\n",
       "      <td>NaN</td>\n",
       "    </tr>\n",
       "    <tr>\n",
       "      <th>4</th>\n",
       "      <td>OPR 2011</td>\n",
       "      <td>27</td>\n",
       "      <td>1351</td>\n",
       "      <td>69</td>\n",
       "      <td>NaN</td>\n",
       "      <td>239</td>\n",
       "      <td>2</td>\n",
       "      <td>347</td>\n",
       "      <td>436</td>\n",
       "      <td>NaN</td>\n",
       "      <td>...</td>\n",
       "      <td>NaN</td>\n",
       "      <td>NaN</td>\n",
       "      <td>NaN</td>\n",
       "      <td>NaN</td>\n",
       "      <td>NaN</td>\n",
       "      <td>NaN</td>\n",
       "      <td>NaN</td>\n",
       "      <td>NaN</td>\n",
       "      <td>NaN</td>\n",
       "      <td>NaN</td>\n",
       "    </tr>\n",
       "  </tbody>\n",
       "</table>\n",
       "<p>5 rows × 53 columns</p>\n",
       "</div>"
      ],
      "text/plain": [
       "    Toronto  118   296  610   746  1075  1114  1241  1246  1285  ...   5428  \\\n",
       "0  OPR 2015    2  1336  306  1922  1813     3   905  1409   388  ...   1473   \n",
       "1  OPR 2014    3  1263   29  1419   767     1    48  2620   426  ...    NaN   \n",
       "2  OPR 2013    5  1548   40   NaN  1319     1    73   NaN   NaN  ...    NaN   \n",
       "3  OPR 2012   17  1418   99   NaN  1228     5   188   989   NaN  ...    NaN   \n",
       "4  OPR 2011   27  1351   69   NaN   239     2   347   436   NaN  ...    NaN   \n",
       "\n",
       "   5580  5596  5719  5807  6046  6070  6125  6140  6141  \n",
       "0  2055  2011  2049   NaN   NaN   NaN   NaN   NaN   NaN  \n",
       "1   NaN   NaN   NaN   NaN   NaN   NaN   NaN   NaN   NaN  \n",
       "2   NaN   NaN   NaN   NaN   NaN   NaN   NaN   NaN   NaN  \n",
       "3   NaN   NaN   NaN   NaN   NaN   NaN   NaN   NaN   NaN  \n",
       "4   NaN   NaN   NaN   NaN   NaN   NaN   NaN   NaN   NaN  \n",
       "\n",
       "[5 rows x 53 columns]"
      ]
     },
     "execution_count": 3,
     "metadata": {},
     "output_type": "execute_result"
    }
   ],
   "source": [
    "toronto_data.head()"
   ]
  },
  {
   "cell_type": "code",
   "execution_count": 7,
   "metadata": {
    "collapsed": false
   },
   "outputs": [
    {
     "data": {
      "image/png": "[encoded data removed]",
      "text/plain": [
       "<matplotlib.figure.Figure at 0x109a1f250>"
      ]
     },
     "metadata": {},
     "output_type": "display_data"
    }
   ],
   "source": [
    "plot.boxplot(toronto_data[\"118\"])\n",
    "plot.boxplot(toronto_data[\"296\"])\n",
    "plot.boxplot(toronto_data[\"610\"])\n",
    "\n",
    "plot.show()"
   ]
  }
 ],
 "metadata": {
  "kernelspec": {
   "display_name": "Python 2",
   "language": "python",
   "name": "python2"
  },
  "language_info": {
   "codemirror_mode": {
    "name": "ipython",
    "version": 2
   },
   "file_extension": ".py",
   "mimetype": "text/x-python",
   "name": "python",
   "nbconvert_exporter": "python",
   "pygments_lexer": "ipython2",
   "version": "2.7.11"
  }
 },
 "nbformat": 4,
 "nbformat_minor": 0
}
