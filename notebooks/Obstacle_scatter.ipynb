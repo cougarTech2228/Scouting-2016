{
 "cells": [
  {
   "cell_type": "markdown",
   "metadata": {},
   "source": [
    "# Scatter Plots of Rank, OPR, and Obstacle Success"
   ]
  },
  {
   "cell_type": "code",
   "execution_count": 3,
   "metadata": {
    "collapsed": true
   },
   "outputs": [],
   "source": [
    "import matplotlib\n",
    "import matplotlib.pyplot as plot\n",
    "import pandas as pd\n",
    "import numpy as np\n",
    "%matplotlib inline"
   ]
  },
  {
   "cell_type": "markdown",
   "metadata": {},
   "source": [
    "Quick test to demonstrate how the arguments in the scatterplots work and what their types are:"
   ]
  },
  {
   "cell_type": "code",
   "execution_count": 16,
   "metadata": {
    "collapsed": false
   },
   "outputs": [
    {
     "data": {
      "image/png": "[encoded data removed]",
      "text/plain": [
       "<matplotlib.figure.Figure at 0x10a8e8e50>"
      ]
     },
     "metadata": {},
     "output_type": "display_data"
    }
   ],
   "source": [
    "a = [3, 4, 5, 6, 7, 15]\n",
    "b = [4, 5, 6, 7 , 7, 3]\n",
    "size = [2, 200, 10, 2, 15]\n",
    "hues = [0.1, 0.2, 0.6, 0.7, 0.9]\n",
    "\n",
    "plot.scatter(a, b, s=size, alpha=0.5)\n",
    "plot.show()"
   ]
  },
  {
   "cell_type": "markdown",
   "metadata": {},
   "source": [
    "### Just some fake data in the same format as the actual data will be "
   ]
  },
  {
   "cell_type": "code",
   "execution_count": 21,
   "metadata": {
    "collapsed": false
   },
   "outputs": [
    {
     "data": {
      "text/html": [
       "<div>\n",
       "<table border=\"1\" class=\"dataframe\">\n",
       "  <thead>\n",
       "    <tr style=\"text-align: right;\">\n",
       "      <th></th>\n",
       "      <th>Team Number</th>\n",
       "      <th>Rank</th>\n",
       "      <th>NormalOPR</th>\n",
       "      <th>Obstacles</th>\n",
       "    </tr>\n",
       "  </thead>\n",
       "  <tbody>\n",
       "    <tr>\n",
       "      <th>0</th>\n",
       "      <td>118</td>\n",
       "      <td>1</td>\n",
       "      <td>1.000000</td>\n",
       "      <td>30</td>\n",
       "    </tr>\n",
       "    <tr>\n",
       "      <th>1</th>\n",
       "      <td>296</td>\n",
       "      <td>7</td>\n",
       "      <td>0.516667</td>\n",
       "      <td>20</td>\n",
       "    </tr>\n",
       "    <tr>\n",
       "      <th>2</th>\n",
       "      <td>610</td>\n",
       "      <td>4</td>\n",
       "      <td>0.889855</td>\n",
       "      <td>10</td>\n",
       "    </tr>\n",
       "    <tr>\n",
       "      <th>3</th>\n",
       "      <td>746</td>\n",
       "      <td>8</td>\n",
       "      <td>0.304348</td>\n",
       "      <td>14</td>\n",
       "    </tr>\n",
       "    <tr>\n",
       "      <th>4</th>\n",
       "      <td>1075</td>\n",
       "      <td>9</td>\n",
       "      <td>0.343841</td>\n",
       "      <td>15</td>\n",
       "    </tr>\n",
       "    <tr>\n",
       "      <th>5</th>\n",
       "      <td>1114</td>\n",
       "      <td>2</td>\n",
       "      <td>0.999638</td>\n",
       "      <td>3</td>\n",
       "    </tr>\n",
       "    <tr>\n",
       "      <th>6</th>\n",
       "      <td>1241</td>\n",
       "      <td>5</td>\n",
       "      <td>0.672826</td>\n",
       "      <td>55</td>\n",
       "    </tr>\n",
       "    <tr>\n",
       "      <th>7</th>\n",
       "      <td>1246</td>\n",
       "      <td>6</td>\n",
       "      <td>0.490217</td>\n",
       "      <td>60</td>\n",
       "    </tr>\n",
       "    <tr>\n",
       "      <th>8</th>\n",
       "      <td>1285</td>\n",
       "      <td>3</td>\n",
       "      <td>0.860145</td>\n",
       "      <td>12</td>\n",
       "    </tr>\n",
       "  </tbody>\n",
       "</table>\n",
       "</div>"
      ],
      "text/plain": [
       "   Team Number  Rank  NormalOPR  Obstacles\n",
       "0          118     1   1.000000         30\n",
       "1          296     7   0.516667         20\n",
       "2          610     4   0.889855         10\n",
       "3          746     8   0.304348         14\n",
       "4         1075     9   0.343841         15\n",
       "5         1114     2   0.999638          3\n",
       "6         1241     5   0.672826         55\n",
       "7         1246     6   0.490217         60\n",
       "8         1285     3   0.860145         12"
      ]
     },
     "execution_count": 21,
     "metadata": {},
     "output_type": "execute_result"
    }
   ],
   "source": [
    "team_data = pd.read_csv(\"fake_features.csv\")\n",
    "team_data"
   ]
  },
  {
   "cell_type": "markdown",
   "metadata": {},
   "source": [
    "## Notes\n",
    "\n",
    "- Color code dots red that have an obstacle rating > the median or mean of the top eight or sixteen teams.\n",
    "- Nice shade of red : c = (1,0.2,0.2)"
   ]
  },
  {
   "cell_type": "markdown",
   "metadata": {},
   "source": [
    "### Extract the data from the dataframe so that it can be used as arguments in the scatter function"
   ]
  },
  {
   "cell_type": "code",
   "execution_count": 127,
   "metadata": {
    "collapsed": false
   },
   "outputs": [
    {
     "data": {
      "image/png": "[encoded data removed]",
      "text/plain": [
       "<matplotlib.figure.Figure at 0x10a5e92d0>"
      ]
     },
     "metadata": {},
     "output_type": "display_data"
    }
   ],
   "source": [
    "ranks = team_data['Rank']\n",
    "OPR = team_data['NormalOPR']\n",
    "obstacles = 5 * team_data['Obstacles']\n",
    "test_hues = ['red', 'red', 'red', 'blue', 'red', 'green', 'red', 'yellow', 'red']\n",
    "plot.scatter(ranks, OPR, s=obstacles, c=hues)\n",
    "plot.show()"
   ]
  },
  {
   "cell_type": "code",
   "execution_count": 88,
   "metadata": {
    "collapsed": false
   },
   "outputs": [
    {
     "name": "stdout",
     "output_type": "stream",
     "text": [
      "[150, 100, 50, 70, 75, 15, 275, 300, 60]\n"
     ]
    }
   ],
   "source": [
    "obstacle_list = list(obstacles)\n",
    "print obstacle_list"
   ]
  },
  {
   "cell_type": "code",
   "execution_count": 126,
   "metadata": {
    "collapsed": false
   },
   "outputs": [
    {
     "data": {
      "text/plain": [
       "['blue', 'blue', 'blue', 'blue', 'blue', 'blue', 'red', 'red', 'blue']"
      ]
     },
     "execution_count": 126,
     "metadata": {},
     "output_type": "execute_result"
    }
   ],
   "source": [
    "top_mean = sum(obstacle_list[0:3]) / len(obstacle_list[0:3])\n",
    "hues = []\n",
    "for index, obstacle in enumerate(obstacle_list):\n",
    "    if obstacle < top_mean or index <= 3:\n",
    "        hues.append('blue')\n",
    "    elif obstacle >= top_mean:\n",
    "        hues.append('red')\n"
   ]
  },
  {
   "cell_type": "code",
   "execution_count": 120,
   "metadata": {
    "collapsed": false
   },
   "outputs": [],
   "source": [
    "# testerino = []\n",
    "# for i, v in enumerate(obstacle_list):\n",
    "#     if v < top_mean or i <= 3:\n",
    "#         testerino.append('blue')\n",
    "#     elif v >= top_mean:\n",
    "#         testerino.append('red')"
   ]
  },
  {
   "cell_type": "code",
   "execution_count": 121,
   "metadata": {
    "collapsed": false
   },
   "outputs": [
    {
     "data": {
      "text/plain": [
       "['blue', 'blue', 'blue', 'blue', 'blue', 'blue', 'red', 'red', 'blue']"
      ]
     },
     "execution_count": 121,
     "metadata": {},
     "output_type": "execute_result"
    }
   ],
   "source": [
    "testerino"
   ]
  },
  {
   "cell_type": "code",
   "execution_count": 97,
   "metadata": {
    "collapsed": false
   },
   "outputs": [
    {
     "data": {
      "text/plain": [
       "100"
      ]
     },
     "execution_count": 97,
     "metadata": {},
     "output_type": "execute_result"
    }
   ],
   "source": [
    "top_mean"
   ]
  },
  {
   "cell_type": "code",
   "execution_count": 96,
   "metadata": {
    "collapsed": false
   },
   "outputs": [
    {
     "data": {
      "text/plain": [
       "[150, 100, 50, 70, 75, 15, 275, 300, 60]"
      ]
     },
     "execution_count": 96,
     "metadata": {},
     "output_type": "execute_result"
    }
   ],
   "source": [
    "obstacle_list"
   ]
  }
 ],
 "metadata": {
  "kernelspec": {
   "display_name": "Python 2",
   "language": "python",
   "name": "python2"
  },
  "language_info": {
   "codemirror_mode": {
    "name": "ipython",
    "version": 2
   },
   "file_extension": ".py",
   "mimetype": "text/x-python",
   "name": "python",
   "nbconvert_exporter": "python",
   "pygments_lexer": "ipython2",
   "version": "2.7.11"
  }
 },
 "nbformat": 4,
 "nbformat_minor": 0
}
