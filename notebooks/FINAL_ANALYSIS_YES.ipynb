{
 "cells": [
  {
   "cell_type": "code",
   "execution_count": 95,
   "metadata": {
    "collapsed": true
   },
   "outputs": [],
   "source": [
    "import numpy as np\n",
    "import pandas as pd\n",
    "import matplotlib.pyplot as plot\n",
    "import matplotlib\n",
    "matplotlib.style.use(\"ggplot\")\n",
    "%matplotlib inline"
   ]
  },
  {
   "cell_type": "code",
   "execution_count": 3,
   "metadata": {
    "collapsed": false
   },
   "outputs": [],
   "source": [
    "toronto_data = pd.read_csv(\"toronto_transposed.csv\")"
   ]
  },
  {
   "cell_type": "code",
   "execution_count": 4,
   "metadata": {
    "collapsed": false
   },
   "outputs": [
    {
     "data": {
      "text/html": [
       "<div>\n",
       "<table border=\"1\" class=\"dataframe\">\n",
       "  <thead>\n",
       "    <tr style=\"text-align: right;\">\n",
       "      <th></th>\n",
       "      <th>Toronto</th>\n",
       "      <th>118</th>\n",
       "      <th>296</th>\n",
       "      <th>610</th>\n",
       "      <th>746</th>\n",
       "      <th>1075</th>\n",
       "      <th>1114</th>\n",
       "      <th>1241</th>\n",
       "      <th>1246</th>\n",
       "      <th>1285</th>\n",
       "      <th>...</th>\n",
       "      <th>5428</th>\n",
       "      <th>5580</th>\n",
       "      <th>5596</th>\n",
       "      <th>5719</th>\n",
       "      <th>5807</th>\n",
       "      <th>6046</th>\n",
       "      <th>6070</th>\n",
       "      <th>6125</th>\n",
       "      <th>6140</th>\n",
       "      <th>6141</th>\n",
       "    </tr>\n",
       "  </thead>\n",
       "  <tbody>\n",
       "    <tr>\n",
       "      <th>0</th>\n",
       "      <td>OPR 2015</td>\n",
       "      <td>2</td>\n",
       "      <td>1336</td>\n",
       "      <td>306</td>\n",
       "      <td>1922</td>\n",
       "      <td>1813</td>\n",
       "      <td>3</td>\n",
       "      <td>905</td>\n",
       "      <td>1409</td>\n",
       "      <td>388</td>\n",
       "      <td>...</td>\n",
       "      <td>1473</td>\n",
       "      <td>2055</td>\n",
       "      <td>2011</td>\n",
       "      <td>2049</td>\n",
       "      <td>NaN</td>\n",
       "      <td>NaN</td>\n",
       "      <td>NaN</td>\n",
       "      <td>NaN</td>\n",
       "      <td>NaN</td>\n",
       "      <td>NaN</td>\n",
       "    </tr>\n",
       "    <tr>\n",
       "      <th>1</th>\n",
       "      <td>OPR 2014</td>\n",
       "      <td>3</td>\n",
       "      <td>1263</td>\n",
       "      <td>29</td>\n",
       "      <td>1419</td>\n",
       "      <td>767</td>\n",
       "      <td>1</td>\n",
       "      <td>48</td>\n",
       "      <td>2620</td>\n",
       "      <td>426</td>\n",
       "      <td>...</td>\n",
       "      <td>NaN</td>\n",
       "      <td>NaN</td>\n",
       "      <td>NaN</td>\n",
       "      <td>NaN</td>\n",
       "      <td>NaN</td>\n",
       "      <td>NaN</td>\n",
       "      <td>NaN</td>\n",
       "      <td>NaN</td>\n",
       "      <td>NaN</td>\n",
       "      <td>NaN</td>\n",
       "    </tr>\n",
       "    <tr>\n",
       "      <th>2</th>\n",
       "      <td>OPR 2013</td>\n",
       "      <td>5</td>\n",
       "      <td>1548</td>\n",
       "      <td>40</td>\n",
       "      <td>NaN</td>\n",
       "      <td>1319</td>\n",
       "      <td>1</td>\n",
       "      <td>73</td>\n",
       "      <td>NaN</td>\n",
       "      <td>NaN</td>\n",
       "      <td>...</td>\n",
       "      <td>NaN</td>\n",
       "      <td>NaN</td>\n",
       "      <td>NaN</td>\n",
       "      <td>NaN</td>\n",
       "      <td>NaN</td>\n",
       "      <td>NaN</td>\n",
       "      <td>NaN</td>\n",
       "      <td>NaN</td>\n",
       "      <td>NaN</td>\n",
       "      <td>NaN</td>\n",
       "    </tr>\n",
       "    <tr>\n",
       "      <th>3</th>\n",
       "      <td>OPR 2012</td>\n",
       "      <td>17</td>\n",
       "      <td>1418</td>\n",
       "      <td>99</td>\n",
       "      <td>NaN</td>\n",
       "      <td>1228</td>\n",
       "      <td>5</td>\n",
       "      <td>188</td>\n",
       "      <td>989</td>\n",
       "      <td>NaN</td>\n",
       "      <td>...</td>\n",
       "      <td>NaN</td>\n",
       "      <td>NaN</td>\n",
       "      <td>NaN</td>\n",
       "      <td>NaN</td>\n",
       "      <td>NaN</td>\n",
       "      <td>NaN</td>\n",
       "      <td>NaN</td>\n",
       "      <td>NaN</td>\n",
       "      <td>NaN</td>\n",
       "      <td>NaN</td>\n",
       "    </tr>\n",
       "    <tr>\n",
       "      <th>4</th>\n",
       "      <td>OPR 2011</td>\n",
       "      <td>27</td>\n",
       "      <td>1351</td>\n",
       "      <td>69</td>\n",
       "      <td>NaN</td>\n",
       "      <td>239</td>\n",
       "      <td>2</td>\n",
       "      <td>347</td>\n",
       "      <td>436</td>\n",
       "      <td>NaN</td>\n",
       "      <td>...</td>\n",
       "      <td>NaN</td>\n",
       "      <td>NaN</td>\n",
       "      <td>NaN</td>\n",
       "      <td>NaN</td>\n",
       "      <td>NaN</td>\n",
       "      <td>NaN</td>\n",
       "      <td>NaN</td>\n",
       "      <td>NaN</td>\n",
       "      <td>NaN</td>\n",
       "      <td>NaN</td>\n",
       "    </tr>\n",
       "  </tbody>\n",
       "</table>\n",
       "<p>5 rows × 53 columns</p>\n",
       "</div>"
      ],
      "text/plain": [
       "    Toronto  118   296  610   746  1075  1114  1241  1246  1285  ...   5428  \\\n",
       "0  OPR 2015    2  1336  306  1922  1813     3   905  1409   388  ...   1473   \n",
       "1  OPR 2014    3  1263   29  1419   767     1    48  2620   426  ...    NaN   \n",
       "2  OPR 2013    5  1548   40   NaN  1319     1    73   NaN   NaN  ...    NaN   \n",
       "3  OPR 2012   17  1418   99   NaN  1228     5   188   989   NaN  ...    NaN   \n",
       "4  OPR 2011   27  1351   69   NaN   239     2   347   436   NaN  ...    NaN   \n",
       "\n",
       "   5580  5596  5719  5807  6046  6070  6125  6140  6141  \n",
       "0  2055  2011  2049   NaN   NaN   NaN   NaN   NaN   NaN  \n",
       "1   NaN   NaN   NaN   NaN   NaN   NaN   NaN   NaN   NaN  \n",
       "2   NaN   NaN   NaN   NaN   NaN   NaN   NaN   NaN   NaN  \n",
       "3   NaN   NaN   NaN   NaN   NaN   NaN   NaN   NaN   NaN  \n",
       "4   NaN   NaN   NaN   NaN   NaN   NaN   NaN   NaN   NaN  \n",
       "\n",
       "[5 rows x 53 columns]"
      ]
     },
     "execution_count": 4,
     "metadata": {},
     "output_type": "execute_result"
    }
   ],
   "source": [
    "toronto_data.head()"
   ]
  },
  {
   "cell_type": "code",
   "execution_count": 92,
   "metadata": {
    "collapsed": false
   },
   "outputs": [
    {
     "name": "stdout",
     "output_type": "stream",
     "text": [
      "Empty DataFrame\n",
      "Columns: [Toronto, 118, 296, 610, 746, 1075, 1114, 1241, 1246, 1285, 1305, 1310, 1325, 1547, 2013, 2056, 2185, 2198, 2228, 2340, 2634, 2935, 3117, 3541, 3710, 4015, 4152, 4248, 4252, 4308, 4343, 4476, 4525, 4618, 4704, 4732, 4783, 4939, 4976, 5031, 5036, 5076, 5094, 5428, 5580, 5596, 5719, 5807, 6046, 6070, 6125, 6140, 6141]\n",
      "Index: []\n",
      "\n",
      "[0 rows x 53 columns]\n",
      "['118', '296', '610', '746', '1075', '1114', '1241', '1246', '1285', '1305', '1310', '1325', '1547', '2013', '2056', '2185', '2198', '2228', '2340', '2634', '2935', '3117', '3541', '3710', '4015', '4152', '4248', '4252', '4308', '4343', '4476', '4525', '4618', '4704', '4732', '4783', '4939', '4976', '5031', '5036', '5076', '5094', '5428', '5580', '5596', '5719', '5807', '6046', '6070', '6125', '6140', '6141']\n"
     ]
    }
   ],
   "source": [
    "team_numbers = toronto_data[:0]\n",
    "print team_numbers\n",
    "team_numbers_list = list(team_numbers)\n",
    "del team_numbers_list[0]\n",
    "# team_numbers_list = map(int, team_numbers_list)\n",
    "print team_numbers_list"
   ]
  },
  {
   "cell_type": "code",
   "execution_count": null,
   "metadata": {
    "collapsed": true
   },
   "outputs": [],
   "source": []
  },
  {
   "cell_type": "code",
   "execution_count": 102,
   "metadata": {
    "collapsed": false
   },
   "outputs": [],
   "source": [
    "def create_plots(dataframe, column_names):\n",
    "    for i in column_names:\n",
    "        plot.boxplot(dataframe[i])\n",
    "    plot.show()"
   ]
  },
  {
   "cell_type": "code",
   "execution_count": 103,
   "metadata": {
    "collapsed": false
   },
   "outputs": [
    {
     "data": {
      "image/png": "[encoded data removed]",
      "text/plain": [
       "<matplotlib.figure.Figure at 0x10a9354d0>"
      ]
     },
     "metadata": {},
     "output_type": "display_data"
    }
   ],
   "source": [
    "create_plots(toronto_data, team_numbers_list)"
   ]
  },
  {
   "cell_type": "code",
   "execution_count": 110,
   "metadata": {
    "collapsed": true
   },
   "outputs": [],
   "source": [
    "def make_plots(dataframe, column_names):\n",
    "    figure = plot.figure(1, figsize=(9, 6))\n",
    "    ax = figure.add_subplot(111)\n",
    "    for i in column_names:\n",
    "        bp = ax.boxplot(dataframe[i])\n",
    "    figure.savefig('fig1.png', bbox_inches='tight')"
   ]
  },
  {
   "cell_type": "code",
   "execution_count": 111,
   "metadata": {
    "collapsed": false
   },
   "outputs": [
    {
     "data": {
      "image/png": "[encoded data removed]",
      "text/plain": [
       "<matplotlib.figure.Figure at 0x1094b3910>"
      ]
     },
     "metadata": {},
     "output_type": "display_data"
    }
   ],
   "source": [
    "make_plots(toronto_data, team_numbers_list)"
   ]
  }
 ],
 "metadata": {
  "kernelspec": {
   "display_name": "Python 2",
   "language": "python",
   "name": "python2"
  },
  "language_info": {
   "codemirror_mode": {
    "name": "ipython",
    "version": 2
   },
   "file_extension": ".py",
   "mimetype": "text/x-python",
   "name": "python",
   "nbconvert_exporter": "python",
   "pygments_lexer": "ipython2",
   "version": "2.7.11"
  }
 },
 "nbformat": 4,
 "nbformat_minor": 0
}
